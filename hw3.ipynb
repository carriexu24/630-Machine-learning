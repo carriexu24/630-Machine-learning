{
 "cells": [
  {
   "cell_type": "markdown",
   "metadata": {},
   "source": [
    "# 1 AdaBoost on a toy dataset"
   ]
  },
  {
   "cell_type": "markdown",
   "metadata": {},
   "source": [
    "## 1.1"
   ]
  },
  {
   "cell_type": "code",
   "execution_count": 1,
   "metadata": {
    "collapsed": true
   },
   "outputs": [],
   "source": [
    "import numpy as np\n",
    "import pandas as pd\n",
    "from sklearn.tree import DecisionTreeClassifier"
   ]
  },
  {
   "cell_type": "code",
   "execution_count": 2,
   "metadata": {
    "collapsed": true
   },
   "outputs": [],
   "source": [
    "X = np.array([[0,-1],[1,0],[-1,0],[0,1]])\n",
    "Y = np.array([-1,1,1,-1])"
   ]
  },
  {
   "cell_type": "code",
   "execution_count": 3,
   "metadata": {
    "collapsed": true
   },
   "outputs": [],
   "source": [
    "def adaboost(X, y, num_iter):\n",
    "    \"\"\"Given an numpy matrix X, a array y and num_iter return trees and weights \n",
    "   \n",
    "    Input: X, y, num_iter\n",
    "    Outputs: array of trees from DecisionTreeClassifier\n",
    "             trees_weights array of floats\n",
    "    Assumes y is {-1, 1}\n",
    "    \"\"\"\n",
    "    trees = []\n",
    "    trees_weights = [] \n",
    "    N, _ = X.shape\n",
    "    d = np.ones(N) / N\n",
    "    dic = []\n",
    "\n",
    "    # YOUR CODE HERE\n",
    "    for m in range(num_iter):\n",
    "        clf = DecisionTreeClassifier(max_depth=1, random_state=0)\n",
    "        clf.fit(X, y, sample_weight=d)\n",
    "        pred = clf.predict(X)\n",
    "        test = pred == y\n",
    "        error = 0\n",
    "        for i in range(len(test)):\n",
    "            if not test[i]:\n",
    "                error += d[i]\n",
    "        error = error / d.sum()\n",
    "        tree_weight = np.log((1-error)/error)\n",
    "        for i in range(len(test)):\n",
    "            if not test[i]:\n",
    "                d[i] = d[i] * np.exp(tree_weight)\n",
    "        trees.append(clf)\n",
    "        trees_weights.append(tree_weight)\n",
    "        dic.append({'$w1$':d[0],'$w2$':d[1],'$w3$':d[2],'$w4$':d[3],\n",
    "                   'err':error, '$\\\\alpha$':tree_weight,\n",
    "                   '$G_m(x_1)$':pred[0],'$G_m(x_2)$':pred[1],\n",
    "                   '$G_m(x_3)$':pred[2],'$G_m(x_4)$':pred[3]})\n",
    "    return trees, trees_weights, dic"
   ]
  },
  {
   "cell_type": "code",
   "execution_count": 4,
   "metadata": {
    "collapsed": true
   },
   "outputs": [],
   "source": [
    "trees, trees_weights, dic = adaboost(X,Y,4)"
   ]
  },
  {
   "cell_type": "code",
   "execution_count": 5,
   "metadata": {
    "scrolled": true
   },
   "outputs": [
    {
     "data": {
      "text/html": [
       "<div>\n",
       "<style>\n",
       "    .dataframe thead tr:only-child th {\n",
       "        text-align: right;\n",
       "    }\n",
       "\n",
       "    .dataframe thead th {\n",
       "        text-align: left;\n",
       "    }\n",
       "\n",
       "    .dataframe tbody tr th {\n",
       "        vertical-align: top;\n",
       "    }\n",
       "</style>\n",
       "<table border=\"1\" class=\"dataframe\">\n",
       "  <thead>\n",
       "    <tr style=\"text-align: right;\">\n",
       "      <th></th>\n",
       "      <th>$w1$</th>\n",
       "      <th>$w2$</th>\n",
       "      <th>$w3$</th>\n",
       "      <th>$w4$</th>\n",
       "      <th>err</th>\n",
       "      <th>$\\alpha$</th>\n",
       "      <th>$G_m(x_1)$</th>\n",
       "      <th>$G_m(x_2)$</th>\n",
       "      <th>$G_m(x_3)$</th>\n",
       "      <th>$G_m(x_4)$</th>\n",
       "    </tr>\n",
       "  </thead>\n",
       "  <tbody>\n",
       "    <tr>\n",
       "      <th>0</th>\n",
       "      <td>0.25</td>\n",
       "      <td>0.25</td>\n",
       "      <td>0.25</td>\n",
       "      <td>0.75</td>\n",
       "      <td>0.250000</td>\n",
       "      <td>1.098612</td>\n",
       "      <td>-1</td>\n",
       "      <td>1</td>\n",
       "      <td>1</td>\n",
       "      <td>1</td>\n",
       "    </tr>\n",
       "    <tr>\n",
       "      <th>1</th>\n",
       "      <td>1.25</td>\n",
       "      <td>0.25</td>\n",
       "      <td>0.25</td>\n",
       "      <td>0.75</td>\n",
       "      <td>0.166667</td>\n",
       "      <td>1.609438</td>\n",
       "      <td>1</td>\n",
       "      <td>1</td>\n",
       "      <td>1</td>\n",
       "      <td>-1</td>\n",
       "    </tr>\n",
       "    <tr>\n",
       "      <th>2</th>\n",
       "      <td>1.25</td>\n",
       "      <td>2.25</td>\n",
       "      <td>0.25</td>\n",
       "      <td>0.75</td>\n",
       "      <td>0.100000</td>\n",
       "      <td>2.197225</td>\n",
       "      <td>-1</td>\n",
       "      <td>-1</td>\n",
       "      <td>1</td>\n",
       "      <td>-1</td>\n",
       "    </tr>\n",
       "    <tr>\n",
       "      <th>3</th>\n",
       "      <td>1.25</td>\n",
       "      <td>2.25</td>\n",
       "      <td>4.25</td>\n",
       "      <td>0.75</td>\n",
       "      <td>0.055556</td>\n",
       "      <td>2.833213</td>\n",
       "      <td>-1</td>\n",
       "      <td>1</td>\n",
       "      <td>-1</td>\n",
       "      <td>-1</td>\n",
       "    </tr>\n",
       "  </tbody>\n",
       "</table>\n",
       "</div>"
      ],
      "text/plain": [
       "   $w1$  $w2$  $w3$  $w4$       err  $\\alpha$  $G_m(x_1)$  $G_m(x_2)$  \\\n",
       "0  0.25  0.25  0.25  0.75  0.250000  1.098612          -1           1   \n",
       "1  1.25  0.25  0.25  0.75  0.166667  1.609438           1           1   \n",
       "2  1.25  2.25  0.25  0.75  0.100000  2.197225          -1          -1   \n",
       "3  1.25  2.25  4.25  0.75  0.055556  2.833213          -1           1   \n",
       "\n",
       "   $G_m(x_3)$  $G_m(x_4)$  \n",
       "0           1           1  \n",
       "1           1          -1  \n",
       "2           1          -1  \n",
       "3          -1          -1  "
      ]
     },
     "execution_count": 5,
     "metadata": {},
     "output_type": "execute_result"
    }
   ],
   "source": [
    "pd.DataFrame(dic, columns = ['$w1$', '$w2$', '$w3$', '$w4$','err', '$\\\\alpha$', \n",
    "                             '$G_m(x_1)$', '$G_m(x_2)$', '$G_m(x_3)$', '$G_m(x_4)$'])"
   ]
  },
  {
   "cell_type": "markdown",
   "metadata": {},
   "source": [
    "## 1.2"
   ]
  },
  {
   "cell_type": "code",
   "execution_count": 6,
   "metadata": {
    "collapsed": true
   },
   "outputs": [],
   "source": [
    "# accuracy computation\n",
    "def accuracy(y, pred):\n",
    "    return np.sum(y == pred) / float(len(y)) "
   ]
  },
  {
   "cell_type": "code",
   "execution_count": 7,
   "metadata": {
    "collapsed": true
   },
   "outputs": [],
   "source": [
    "def adaboost_predict(X, trees, trees_weights):\n",
    "    \"\"\"Given X, trees and weights predict Y\n",
    "    \"\"\"\n",
    "    # X input, y output\n",
    "    N, _ =  X.shape\n",
    "    y = np.zeros(N)\n",
    "    # YOUR CODE HERE\n",
    "    y_preds = []\n",
    "    for tree in trees:\n",
    "        y_preds.append(tree.predict(X))\n",
    "    y_preds = np.array(y_preds)\n",
    "    final_pred = np.array(trees_weights).dot(y_preds)\n",
    "    for i in range(len(final_pred)):\n",
    "        if final_pred[i] < 0:\n",
    "            y[i] = -1\n",
    "        else:\n",
    "            y[i] = 1\n",
    "    return y"
   ]
  },
  {
   "cell_type": "code",
   "execution_count": 8,
   "metadata": {},
   "outputs": [
    {
     "name": "stdout",
     "output_type": "stream",
     "text": [
      "[-1.  1.  1. -1.]\n",
      "The training error of AdaBoost for this toy dataset is 0.000000.\n"
     ]
    }
   ],
   "source": [
    "Yhat = adaboost_predict(X, trees, trees_weights)\n",
    "print(Yhat)\n",
    "print('The training error of AdaBoost for this toy dataset is %f.' % (1 - accuracy(Y, Yhat)))"
   ]
  },
  {
   "cell_type": "markdown",
   "metadata": {},
   "source": [
    "The training error of AdaBoost for this toy dataset is 0. According to the equation $G(x_i) = sign(\\sum_{1}^M\\alpha_m\\times G_m(x_i))$, We get the final predition [-1, 1, 1, -1], which is exactly the same as the true label. Therefore, we will get zero training error no matter what metric we use."
   ]
  },
  {
   "cell_type": "markdown",
   "metadata": {},
   "source": [
    "## 1.3"
   ]
  },
  {
   "cell_type": "markdown",
   "metadata": {},
   "source": [
    "The dataset is not linearly separable. With only one decision stump, we can not get a perfect classifier on the above dataset. With AdaBoost, we could combines the outputs of many “weak” classifiers to produce a descent result."
   ]
  },
  {
   "cell_type": "markdown",
   "metadata": {},
   "source": [
    "# 2 Implement AdaBoost "
   ]
  },
  {
   "cell_type": "markdown",
   "metadata": {},
   "source": [
    "## 2.1"
   ]
  },
  {
   "cell_type": "markdown",
   "metadata": {
    "deletable": false,
    "editable": false,
    "nbgrader": {
     "checksum": "48de53d81aa50d97046cca0ddb2f2d2d",
     "grade": false,
     "grade_id": "cell-cfc24d80c2cf2c24",
     "locked": true,
     "schema_version": 1,
     "solution": false
    }
   },
   "source": [
    "# Adaboost\n",
    "For this exercise you will implement AdaBoost from scratch and applied it to a spam dataset. You will be classifying data into spam and not spam. You can call DecisionTreeClassifier from sklearn to learn your base classifiers.\n",
    "\n",
    "Here is how you train a decision tree classifier with weights.\n",
    "\n",
    "`\n",
    "h = DecisionTreeClassifier(max_depth=1, random_state=0)\n",
    "h.fit(X, Y, sample_weight=w)\n",
    "`"
   ]
  },
  {
   "cell_type": "code",
   "execution_count": 9,
   "metadata": {
    "collapsed": true,
    "deletable": false,
    "editable": false,
    "nbgrader": {
     "checksum": "721eeb40a1514114e45b42ea010de91b",
     "grade": false,
     "grade_id": "cell-3478d607a536190b",
     "locked": true,
     "schema_version": 1,
     "solution": false
    }
   },
   "outputs": [],
   "source": [
    "import numpy as np\n",
    "from sklearn.tree import DecisionTreeClassifier"
   ]
  },
  {
   "cell_type": "code",
   "execution_count": 10,
   "metadata": {
    "collapsed": true,
    "deletable": false,
    "editable": false,
    "nbgrader": {
     "checksum": "1410ebe73ffc63306e4c15b6698a7188",
     "grade": false,
     "grade_id": "cell-c56cb727222d9503",
     "locked": true,
     "schema_version": 1,
     "solution": false
    }
   },
   "outputs": [],
   "source": [
    "# accuracy computation\n",
    "def accuracy(y, pred):\n",
    "    return np.sum(y == pred) / float(len(y)) "
   ]
  },
  {
   "cell_type": "code",
   "execution_count": 11,
   "metadata": {
    "collapsed": true,
    "deletable": false,
    "nbgrader": {
     "checksum": "d133f796b3b7db028e1c1ed875771c65",
     "grade": false,
     "grade_id": "cell-1eaf818528c8d676",
     "locked": false,
     "schema_version": 1,
     "solution": true
    }
   },
   "outputs": [],
   "source": [
    "def parse_spambase_data(filename):\n",
    "    \"\"\" Given a filename return X and Y numpy arrays\n",
    "\n",
    "    X is of size number of rows x num_features\n",
    "    Y is an array of size the number of rows\n",
    "    Y is the last element of each row. (Convert 0 to -1)\n",
    "    \"\"\"\n",
    "    #YOUR CODE HERE\n",
    "    X = []\n",
    "    Y = []\n",
    "    with open(filename) as f:\n",
    "        for line in f:\n",
    "            row = [float(x) for x in line.split(',')]\n",
    "            X.append(row[:-1])\n",
    "            Y.append(row[-1])\n",
    "    return np.array(X), (np.array(Y) - 1/2) * 2"
   ]
  },
  {
   "cell_type": "code",
   "execution_count": 12,
   "metadata": {
    "collapsed": true,
    "deletable": false,
    "editable": false,
    "nbgrader": {
     "checksum": "871278b33c2d3da9fb8d7cbf4f4dd23d",
     "grade": true,
     "grade_id": "cell-73926460e1f70f54",
     "locked": true,
     "points": 1,
     "schema_version": 1,
     "solution": false
    }
   },
   "outputs": [],
   "source": [
    "y_test = np.array([1., -1., 1., 1., -1., -1., 1., 1., 1., -1.])\n",
    "X, Y = parse_spambase_data(\"tiny.spam.train\")\n",
    "for i in range(len(y_test)): assert(y_test[i] == Y[i])\n",
    "n, m = X.shape\n",
    "assert(n == 10)\n",
    "assert(m == 57)"
   ]
  },
  {
   "cell_type": "code",
   "execution_count": 13,
   "metadata": {
    "collapsed": true,
    "deletable": false,
    "nbgrader": {
     "checksum": "3a188c77e59b3b431b59f03ddf7bbe7d",
     "grade": false,
     "grade_id": "cell-befcece7be9c6839",
     "locked": false,
     "schema_version": 1,
     "solution": true
    }
   },
   "outputs": [],
   "source": [
    "def adaboost(X, y, num_iter):\n",
    "    \"\"\"Given an numpy matrix X, a array y and num_iter return trees and weights \n",
    "   \n",
    "    Input: X, y, num_iter\n",
    "    Outputs: array of trees from DecisionTreeClassifier\n",
    "             trees_weights array of floats\n",
    "    Assumes y is {-1, 1}\n",
    "    \"\"\"\n",
    "    trees = []\n",
    "    trees_weights = [] \n",
    "    N, _ = X.shape\n",
    "    d = np.ones(N) / N\n",
    "\n",
    "    # YOUR CODE HERE\n",
    "    for m in range(num_iter):\n",
    "        clf = DecisionTreeClassifier(max_depth=1, random_state=0)\n",
    "        clf.fit(X, y, sample_weight=d)\n",
    "        pred = clf.predict(X)\n",
    "        test = pred == y\n",
    "        error = 0\n",
    "        for i in range(len(test)):\n",
    "            if not test[i]:\n",
    "                error += d[i]\n",
    "        error = error / d.sum()\n",
    "        tree_weight = np.log((1-error)/error)\n",
    "        for i in range(len(test)):\n",
    "            if not test[i]:\n",
    "                d[i] = d[i] * np.exp(tree_weight)\n",
    "        trees.append(clf)\n",
    "        trees_weights.append(tree_weight)\n",
    "    return trees, trees_weights"
   ]
  },
  {
   "cell_type": "code",
   "execution_count": 14,
   "metadata": {
    "collapsed": true,
    "deletable": false,
    "editable": false,
    "nbgrader": {
     "checksum": "a6923d427eebd8af4c7ffa45586034e0",
     "grade": true,
     "grade_id": "cell-4dc8edbf0e11fab8",
     "locked": true,
     "points": 1,
     "schema_version": 1,
     "solution": false
    }
   },
   "outputs": [],
   "source": [
    "X, Y = parse_spambase_data(\"tiny.spam.train\")\n",
    "trees, weights = adaboost(X, Y, 2)\n",
    "assert(len(trees) == 2)\n",
    "assert(len(weights) == 2)\n",
    "assert(isinstance(trees[0], DecisionTreeClassifier))"
   ]
  },
  {
   "cell_type": "code",
   "execution_count": 15,
   "metadata": {
    "deletable": false,
    "editable": false,
    "nbgrader": {
     "checksum": "6ce0015d15c0c0df6be9c78e73bb0929",
     "grade": true,
     "grade_id": "cell-8702186fedbd58e1",
     "locked": true,
     "points": 2,
     "schema_version": 1,
     "solution": false
    }
   },
   "outputs": [
    {
     "name": "stderr",
     "output_type": "stream",
     "text": [
      "/Users/chuanxu/anaconda/envs/fastai/lib/python3.6/site-packages/ipykernel_launcher.py:25: RuntimeWarning: divide by zero encountered in double_scalars\n"
     ]
    }
   ],
   "source": [
    "x = np.array([[0, -1], [1, 0], [-1, 0]])\n",
    "y = np.array([-1, 1, 1])\n",
    "trees, weights = adaboost(x, y, 1)\n",
    "h = trees[0]\n",
    "pred = h.predict(x)\n",
    "for i in range(len(y)): assert(pred[i] == y[i])"
   ]
  },
  {
   "cell_type": "code",
   "execution_count": 16,
   "metadata": {
    "collapsed": true,
    "deletable": false,
    "nbgrader": {
     "checksum": "57a2d749acc1d974f996162a4fb190fc",
     "grade": false,
     "grade_id": "cell-50ad4a5c81e7c016",
     "locked": false,
     "schema_version": 1,
     "solution": true
    }
   },
   "outputs": [],
   "source": [
    "def adaboost_predict(X, trees, trees_weights):\n",
    "    \"\"\"Given X, trees and weights predict Y\n",
    "    \"\"\"\n",
    "    # X input, y output\n",
    "    N, _ =  X.shape\n",
    "    y = np.zeros(N)\n",
    "    # YOUR CODE HERE\n",
    "    y_preds = []\n",
    "    for tree in trees:\n",
    "        y_preds.append(tree.predict(X))\n",
    "    y_preds = np.array(y_preds)\n",
    "    final_pred = np.array(trees_weights).dot(y_preds)\n",
    "    for i in range(len(final_pred)):\n",
    "        if final_pred[i] < 0:\n",
    "            y[i] = -1\n",
    "        else:\n",
    "            y[i] = 1\n",
    "    return y"
   ]
  },
  {
   "cell_type": "code",
   "execution_count": 17,
   "metadata": {
    "deletable": false,
    "editable": false,
    "nbgrader": {
     "checksum": "4f29500cb929b49fd0e3d7d7c2b528be",
     "grade": true,
     "grade_id": "cell-7f28f00061f7b5a5",
     "locked": true,
     "points": 3,
     "schema_version": 1,
     "solution": false
    }
   },
   "outputs": [
    {
     "name": "stderr",
     "output_type": "stream",
     "text": [
      "/Users/chuanxu/anaconda/envs/fastai/lib/python3.6/site-packages/ipykernel_launcher.py:25: RuntimeWarning: divide by zero encountered in double_scalars\n"
     ]
    }
   ],
   "source": [
    "x = np.array([[0, -1], [1, 0], [-1, 0]])\n",
    "y = np.array([-1, 1, 1])\n",
    "trees, weights = adaboost(x, y, 1)\n",
    "pred = adaboost_predict(x, trees, weights)\n",
    "for i in range(len(y)):\n",
    "    assert(pred[i] == y[i])"
   ]
  },
  {
   "cell_type": "code",
   "execution_count": 18,
   "metadata": {
    "deletable": false,
    "editable": false,
    "nbgrader": {
     "checksum": "6f5022208d3fd8fb43a8847635cdb82f",
     "grade": true,
     "grade_id": "cell-89126a5a7f8f0e1b",
     "locked": true,
     "points": 3,
     "schema_version": 1,
     "solution": false
    }
   },
   "outputs": [
    {
     "name": "stdout",
     "output_type": "stream",
     "text": [
      "Train Accuracy 0.9111\n",
      "Test Accuracy 0.9190\n"
     ]
    }
   ],
   "source": [
    "X, Y = parse_spambase_data(\"spambase.train\")\n",
    "X_test, Y_test = parse_spambase_data(\"spambase.test\")\n",
    "trees, trees_weights = adaboost(X, Y, 10)\n",
    "Yhat = adaboost_predict(X, trees, trees_weights)\n",
    "Yhat_test = adaboost_predict(X_test, trees, trees_weights)\n",
    "    \n",
    "acc_test = accuracy(Y_test, Yhat_test)\n",
    "acc_train = accuracy(Y, Yhat)\n",
    "print(\"Train Accuracy %.4f\" % acc_train)\n",
    "print(\"Test Accuracy %.4f\" % acc_test)\n",
    "assert(np.around(acc_train, decimals=4)==0.9111)\n",
    "assert(np.around(acc_test, decimals=4)==0.9190)"
   ]
  },
  {
   "cell_type": "markdown",
   "metadata": {
    "collapsed": true
   },
   "source": [
    "## 2.2"
   ]
  },
  {
   "cell_type": "markdown",
   "metadata": {},
   "source": [
    "#### split in train and val set"
   ]
  },
  {
   "cell_type": "code",
   "execution_count": 19,
   "metadata": {},
   "outputs": [],
   "source": [
    "np.random.seed(26)\n",
    "trn_sz = X.shape[0] - X_test.shape[0]\n",
    "idxs = np.random.permutation(X.shape[0])\n",
    "X_train, Y_train = X[idxs[:trn_sz]], Y[idxs[:trn_sz]]\n",
    "X_val, Y_val = X[idxs[trn_sz:]], Y[idxs[trn_sz:]]"
   ]
  },
  {
   "cell_type": "code",
   "execution_count": 20,
   "metadata": {},
   "outputs": [
    {
     "data": {
      "text/plain": [
       "((3600, 57), (1000, 57), (2600, 57), (1000, 57))"
      ]
     },
     "execution_count": 20,
     "metadata": {},
     "output_type": "execute_result"
    }
   ],
   "source": [
    "X.shape, X_test.shape, X_train.shape, X_val.shape"
   ]
  },
  {
   "cell_type": "code",
   "execution_count": 21,
   "metadata": {},
   "outputs": [
    {
     "data": {
      "text/plain": [
       "((3600,), (1000,), (2600,), (1000,))"
      ]
     },
     "execution_count": 21,
     "metadata": {},
     "output_type": "execute_result"
    }
   ],
   "source": [
    "Y.shape, Y_test.shape, Y_train.shape, Y_val.shape"
   ]
  },
  {
   "cell_type": "markdown",
   "metadata": {},
   "source": [
    "#### tune hyperparameter"
   ]
  },
  {
   "cell_type": "code",
   "execution_count": 22,
   "metadata": {},
   "outputs": [
    {
     "name": "stdout",
     "output_type": "stream",
     "text": [
      "CPU times: user 1min 36s, sys: 608 ms, total: 1min 37s\n",
      "Wall time: 1min 31s\n"
     ]
    }
   ],
   "source": [
    "%%time\n",
    "numTrees = [2000, 2200, 2400, 2600, 2800, 3000]\n",
    "dic = []\n",
    "for n in numTrees:\n",
    "    trees, trees_weights = adaboost(X_train, Y_train, n)\n",
    "    Yhat_train = adaboost_predict(X_train, trees, trees_weights)\n",
    "    Yhat_val = adaboost_predict(X_val, trees, trees_weights)\n",
    "    dic.append({'numTrees':n, 'train accuracy':accuracy(Y_train, Yhat_train), \n",
    "                'validation accuracy':accuracy(Y_val, Yhat_val)})"
   ]
  },
  {
   "cell_type": "code",
   "execution_count": 23,
   "metadata": {},
   "outputs": [
    {
     "data": {
      "text/html": [
       "<div>\n",
       "<style>\n",
       "    .dataframe thead tr:only-child th {\n",
       "        text-align: right;\n",
       "    }\n",
       "\n",
       "    .dataframe thead th {\n",
       "        text-align: left;\n",
       "    }\n",
       "\n",
       "    .dataframe tbody tr th {\n",
       "        vertical-align: top;\n",
       "    }\n",
       "</style>\n",
       "<table border=\"1\" class=\"dataframe\">\n",
       "  <thead>\n",
       "    <tr style=\"text-align: right;\">\n",
       "      <th></th>\n",
       "      <th>numTrees</th>\n",
       "      <th>train accuracy</th>\n",
       "      <th>validation accuracy</th>\n",
       "    </tr>\n",
       "  </thead>\n",
       "  <tbody>\n",
       "    <tr>\n",
       "      <th>3</th>\n",
       "      <td>2600</td>\n",
       "      <td>0.968077</td>\n",
       "      <td>0.941</td>\n",
       "    </tr>\n",
       "    <tr>\n",
       "      <th>4</th>\n",
       "      <td>2800</td>\n",
       "      <td>0.968846</td>\n",
       "      <td>0.940</td>\n",
       "    </tr>\n",
       "    <tr>\n",
       "      <th>2</th>\n",
       "      <td>2400</td>\n",
       "      <td>0.967692</td>\n",
       "      <td>0.939</td>\n",
       "    </tr>\n",
       "    <tr>\n",
       "      <th>5</th>\n",
       "      <td>3000</td>\n",
       "      <td>0.972308</td>\n",
       "      <td>0.939</td>\n",
       "    </tr>\n",
       "    <tr>\n",
       "      <th>1</th>\n",
       "      <td>2200</td>\n",
       "      <td>0.967692</td>\n",
       "      <td>0.938</td>\n",
       "    </tr>\n",
       "    <tr>\n",
       "      <th>0</th>\n",
       "      <td>2000</td>\n",
       "      <td>0.966154</td>\n",
       "      <td>0.937</td>\n",
       "    </tr>\n",
       "  </tbody>\n",
       "</table>\n",
       "</div>"
      ],
      "text/plain": [
       "   numTrees  train accuracy  validation accuracy\n",
       "3      2600        0.968077                0.941\n",
       "4      2800        0.968846                0.940\n",
       "2      2400        0.967692                0.939\n",
       "5      3000        0.972308                0.939\n",
       "1      2200        0.967692                0.938\n",
       "0      2000        0.966154                0.937"
      ]
     },
     "execution_count": 23,
     "metadata": {},
     "output_type": "execute_result"
    }
   ],
   "source": [
    "import pandas as pd\n",
    "result = pd.DataFrame(dic, columns = ['numTrees', 'train accuracy', 'validation accuracy'])\n",
    "result.sort_values('validation accuracy',  ascending=False)"
   ]
  },
  {
   "cell_type": "code",
   "execution_count": 24,
   "metadata": {},
   "outputs": [
    {
     "data": {
      "image/png": "[encoded data removed]",
      "text/plain": [
       "<matplotlib.figure.Figure at 0x11701eeb8>"
      ]
     },
     "metadata": {},
     "output_type": "display_data"
    }
   ],
   "source": [
    "import matplotlib.pyplot as plt\n",
    "\n",
    "plt.figure(figsize=(8,6))\n",
    "plt.plot(numTrees, result['validation accuracy'], label='validation accuracy')\n",
    "plt.plot(numTrees, result['train accuracy'], label='train accuracy')\n",
    "plt.xlabel('numTrees', fontsize=12)\n",
    "plt.ylabel('accuracy', fontsize=12)\n",
    "plt.legend(loc='best')\n",
    "plt.show()"
   ]
  },
  {
   "cell_type": "markdown",
   "metadata": {},
   "source": [
    "Therefore, the best value of `numTrees` is 2600 and the train and validation accuracy is 0.968 and 0.941, respectively. After that, the train accuracy goes up while the validation accuracy goes down, which means overfitting."
   ]
  },
  {
   "cell_type": "markdown",
   "metadata": {},
   "source": [
    "#### train the final model"
   ]
  },
  {
   "cell_type": "code",
   "execution_count": 25,
   "metadata": {},
   "outputs": [
    {
     "name": "stdout",
     "output_type": "stream",
     "text": [
      "Train Accuracy 0.9644\n",
      "Test Accuracy 0.9570\n"
     ]
    }
   ],
   "source": [
    "trees, trees_weights = adaboost(X, Y, 2600)\n",
    "Yhat = adaboost_predict(X, trees, trees_weights)\n",
    "Yhat_test = adaboost_predict(X_test, trees, trees_weights)\n",
    "\n",
    "acc_test = accuracy(Y_test, Yhat_test)\n",
    "acc_train = accuracy(Y, Yhat)\n",
    "print(\"Train Accuracy %.4f\" % acc_train)\n",
    "print(\"Test Accuracy %.4f\" % acc_test)"
   ]
  },
  {
   "cell_type": "markdown",
   "metadata": {},
   "source": [
    "## 2.3"
   ]
  },
  {
   "cell_type": "code",
   "execution_count": 26,
   "metadata": {},
   "outputs": [
    {
     "name": "stderr",
     "output_type": "stream",
     "text": [
      "/Users/chuanxu/anaconda/envs/fastai/lib/python3.6/site-packages/sklearn/cross_validation.py:41: DeprecationWarning: This module was deprecated in version 0.18 in favor of the model_selection module into which all the refactored classes and functions are moved. Also note that the interface of the new CV iterators are different from that of this module. This module will be removed in 0.20.\n",
      "  \"This module will be removed in 0.20.\", DeprecationWarning)\n"
     ]
    }
   ],
   "source": [
    "import xgboost as xgb"
   ]
  },
  {
   "cell_type": "code",
   "execution_count": 27,
   "metadata": {
    "collapsed": true
   },
   "outputs": [],
   "source": [
    "def change_binary(y_true):\n",
    "    y = y_true.copy()\n",
    "    for i in range(len(y)):\n",
    "        if y[i] == -1:\n",
    "            y[i] = 0\n",
    "    return y"
   ]
  },
  {
   "cell_type": "code",
   "execution_count": 28,
   "metadata": {
    "collapsed": true
   },
   "outputs": [],
   "source": [
    "Y_train_xgb = change_binary(Y_train)\n",
    "Y_val_xgb = change_binary(Y_val)"
   ]
  },
  {
   "cell_type": "code",
   "execution_count": 29,
   "metadata": {},
   "outputs": [],
   "source": [
    "dtrain = xgb.DMatrix(X_train, label=Y_train_xgb)\n",
    "dval = xgb.DMatrix(X_val, label=Y_val_xgb)"
   ]
  },
  {
   "cell_type": "markdown",
   "metadata": {},
   "source": [
    "#### tune `num_round`"
   ]
  },
  {
   "cell_type": "code",
   "execution_count": 30,
   "metadata": {},
   "outputs": [
    {
     "name": "stdout",
     "output_type": "stream",
     "text": [
      "CPU times: user 35.3 s, sys: 13.5 s, total: 48.8 s\n",
      "Wall time: 18.7 s\n"
     ]
    }
   ],
   "source": [
    "%%time\n",
    "param = {'max_depth':1, 'objective':'multi:softmax', 'num_class':2}\n",
    "num_round = [1000, 1200, 1400, 1600, 1800, 2000]\n",
    "dic = []\n",
    "for n in num_round:\n",
    "    bst = xgb.train(param, dtrain, n)\n",
    "    Yhat_train = bst.predict(dtrain)\n",
    "    Yhat_val = bst.predict(dval)\n",
    "    dic.append({'num_round':n,\n",
    "            'train accuracy':accuracy(Y_train_xgb, Yhat_train), \n",
    "            'validation accuracy':accuracy(Y_val_xgb, Yhat_val)})"
   ]
  },
  {
   "cell_type": "code",
   "execution_count": 31,
   "metadata": {},
   "outputs": [
    {
     "data": {
      "text/html": [
       "<div>\n",
       "<style>\n",
       "    .dataframe thead tr:only-child th {\n",
       "        text-align: right;\n",
       "    }\n",
       "\n",
       "    .dataframe thead th {\n",
       "        text-align: left;\n",
       "    }\n",
       "\n",
       "    .dataframe tbody tr th {\n",
       "        vertical-align: top;\n",
       "    }\n",
       "</style>\n",
       "<table border=\"1\" class=\"dataframe\">\n",
       "  <thead>\n",
       "    <tr style=\"text-align: right;\">\n",
       "      <th></th>\n",
       "      <th>num_round</th>\n",
       "      <th>train accuracy</th>\n",
       "      <th>validation accuracy</th>\n",
       "    </tr>\n",
       "  </thead>\n",
       "  <tbody>\n",
       "    <tr>\n",
       "      <th>2</th>\n",
       "      <td>1400</td>\n",
       "      <td>0.981538</td>\n",
       "      <td>0.944</td>\n",
       "    </tr>\n",
       "    <tr>\n",
       "      <th>4</th>\n",
       "      <td>1800</td>\n",
       "      <td>0.982692</td>\n",
       "      <td>0.944</td>\n",
       "    </tr>\n",
       "    <tr>\n",
       "      <th>5</th>\n",
       "      <td>2000</td>\n",
       "      <td>0.983077</td>\n",
       "      <td>0.944</td>\n",
       "    </tr>\n",
       "    <tr>\n",
       "      <th>3</th>\n",
       "      <td>1600</td>\n",
       "      <td>0.981923</td>\n",
       "      <td>0.943</td>\n",
       "    </tr>\n",
       "    <tr>\n",
       "      <th>1</th>\n",
       "      <td>1200</td>\n",
       "      <td>0.980000</td>\n",
       "      <td>0.941</td>\n",
       "    </tr>\n",
       "    <tr>\n",
       "      <th>0</th>\n",
       "      <td>1000</td>\n",
       "      <td>0.980000</td>\n",
       "      <td>0.940</td>\n",
       "    </tr>\n",
       "  </tbody>\n",
       "</table>\n",
       "</div>"
      ],
      "text/plain": [
       "   num_round  train accuracy  validation accuracy\n",
       "2       1400        0.981538                0.944\n",
       "4       1800        0.982692                0.944\n",
       "5       2000        0.983077                0.944\n",
       "3       1600        0.981923                0.943\n",
       "1       1200        0.980000                0.941\n",
       "0       1000        0.980000                0.940"
      ]
     },
     "execution_count": 31,
     "metadata": {},
     "output_type": "execute_result"
    }
   ],
   "source": [
    "result = pd.DataFrame(dic, columns = ['num_round', 'train accuracy', 'validation accuracy'])\n",
    "result.sort_values('validation accuracy',  ascending=False)"
   ]
  },
  {
   "cell_type": "code",
   "execution_count": 32,
   "metadata": {},
   "outputs": [
    {
     "data": {
      "image/png": "[encoded data removed]",
      "text/plain": [
       "<matplotlib.figure.Figure at 0x11a192a90>"
      ]
     },
     "metadata": {},
     "output_type": "display_data"
    }
   ],
   "source": [
    "plt.figure(figsize=(8,6))\n",
    "plt.plot(num_round, result['validation accuracy'], label='validation accuracy')\n",
    "plt.plot(num_round, result['train accuracy'], label='train accuracy')\n",
    "plt.xlabel('numTrees', fontsize=12)\n",
    "plt.ylabel('accuracy', fontsize=12)\n",
    "plt.legend(loc='best')\n",
    "plt.show()"
   ]
  },
  {
   "cell_type": "markdown",
   "metadata": {},
   "source": [
    "Therefore, the best value of `num_boost` is 1400 and the train and validation accuracy is 0.982 and 0.944, respectively. After that, the train accuracy goes up while the validation accuracy doesn't change much.  \n",
    "Comparing to the AdaBoost, XGBoost needs less rounds to achieve higher accuracy on both train and validation set and it takes much less time."
   ]
  },
  {
   "cell_type": "markdown",
   "metadata": {},
   "source": [
    "#### tune `learning_rate`"
   ]
  },
  {
   "cell_type": "code",
   "execution_count": 33,
   "metadata": {},
   "outputs": [
    {
     "name": "stdout",
     "output_type": "stream",
     "text": [
      "CPU times: user 25.1 s, sys: 9.85 s, total: 34.9 s\n",
      "Wall time: 10.8 s\n"
     ]
    }
   ],
   "source": [
    "%%time\n",
    "dic = []\n",
    "learning_rate = [0.00, 0.05, 0.10, 0.15, 0.20]\n",
    "\n",
    "for i in learning_rate:\n",
    "    param = {'max_depth':1, 'learning_rate':i, 'objective':'multi:softmax', 'num_class':2}\n",
    "    bst = xgb.train(param, dtrain, 1400)\n",
    "    Yhat_train = bst.predict(dtrain)\n",
    "    Yhat_val = bst.predict(dval)\n",
    "    dic.append({'learning_rate':i,\n",
    "                'train accuracy':accuracy(Y_train_xgb, Yhat_train), \n",
    "                'validation accuracy':accuracy(Y_val_xgb, Yhat_val)})"
   ]
  },
  {
   "cell_type": "code",
   "execution_count": 34,
   "metadata": {},
   "outputs": [
    {
     "data": {
      "text/html": [
       "<div>\n",
       "<style>\n",
       "    .dataframe thead tr:only-child th {\n",
       "        text-align: right;\n",
       "    }\n",
       "\n",
       "    .dataframe thead th {\n",
       "        text-align: left;\n",
       "    }\n",
       "\n",
       "    .dataframe tbody tr th {\n",
       "        vertical-align: top;\n",
       "    }\n",
       "</style>\n",
       "<table border=\"1\" class=\"dataframe\">\n",
       "  <thead>\n",
       "    <tr style=\"text-align: right;\">\n",
       "      <th></th>\n",
       "      <th>learning_rate</th>\n",
       "      <th>train accuracy</th>\n",
       "      <th>validation accuracy</th>\n",
       "    </tr>\n",
       "  </thead>\n",
       "  <tbody>\n",
       "    <tr>\n",
       "      <th>1</th>\n",
       "      <td>0.05</td>\n",
       "      <td>0.962692</td>\n",
       "      <td>0.943</td>\n",
       "    </tr>\n",
       "    <tr>\n",
       "      <th>2</th>\n",
       "      <td>0.10</td>\n",
       "      <td>0.970769</td>\n",
       "      <td>0.942</td>\n",
       "    </tr>\n",
       "    <tr>\n",
       "      <th>3</th>\n",
       "      <td>0.15</td>\n",
       "      <td>0.976923</td>\n",
       "      <td>0.940</td>\n",
       "    </tr>\n",
       "    <tr>\n",
       "      <th>4</th>\n",
       "      <td>0.20</td>\n",
       "      <td>0.979615</td>\n",
       "      <td>0.940</td>\n",
       "    </tr>\n",
       "    <tr>\n",
       "      <th>0</th>\n",
       "      <td>0.00</td>\n",
       "      <td>0.606154</td>\n",
       "      <td>0.581</td>\n",
       "    </tr>\n",
       "  </tbody>\n",
       "</table>\n",
       "</div>"
      ],
      "text/plain": [
       "   learning_rate  train accuracy  validation accuracy\n",
       "1           0.05        0.962692                0.943\n",
       "2           0.10        0.970769                0.942\n",
       "3           0.15        0.976923                0.940\n",
       "4           0.20        0.979615                0.940\n",
       "0           0.00        0.606154                0.581"
      ]
     },
     "execution_count": 34,
     "metadata": {},
     "output_type": "execute_result"
    }
   ],
   "source": [
    "result = pd.DataFrame(dic, columns = ['learning_rate', 'train accuracy', 'validation accuracy'])\n",
    "result.sort_values('validation accuracy',  ascending=False)"
   ]
  },
  {
   "cell_type": "code",
   "execution_count": 35,
   "metadata": {},
   "outputs": [
    {
     "data": {
      "image/png": "[encoded data removed]",
      "text/plain": [
       "<matplotlib.figure.Figure at 0x11a2c6da0>"
      ]
     },
     "metadata": {},
     "output_type": "display_data"
    }
   ],
   "source": [
    "plt.figure(figsize=(8,6))\n",
    "plt.plot(learning_rate, result['validation accuracy'], label='validation accuracy')\n",
    "plt.plot(learning_rate, result['train accuracy'], label='train accuracy')\n",
    "plt.xlabel('learning_rate', fontsize=12)\n",
    "plt.ylabel('accuracy', fontsize=12)\n",
    "plt.legend(loc='best')\n",
    "plt.show()"
   ]
  },
  {
   "cell_type": "markdown",
   "metadata": {},
   "source": [
    "After learnign rate is bigger than 0.05, the accuracy does not improve much. Therefore, the best value of `learning_rate` is 0.05."
   ]
  },
  {
   "cell_type": "markdown",
   "metadata": {},
   "source": [
    "#### tune `min_child_weight `"
   ]
  },
  {
   "cell_type": "code",
   "execution_count": 36,
   "metadata": {},
   "outputs": [
    {
     "name": "stdout",
     "output_type": "stream",
     "text": [
      "CPU times: user 24.7 s, sys: 9.65 s, total: 34.4 s\n",
      "Wall time: 10.9 s\n"
     ]
    }
   ],
   "source": [
    "%%time\n",
    "dic = []\n",
    "min_child_weight = range(1, 10, 2)\n",
    "\n",
    "for i in min_child_weight:\n",
    "    param = {'max_depth':1, 'min_child_weight':i, 'learning_rate':0.05, 'objective':'multi:softmax', 'num_class':2}\n",
    "    bst = xgb.train(param, dtrain, 1400)\n",
    "    Yhat_train = bst.predict(dtrain)\n",
    "    Yhat_val = bst.predict(dval)\n",
    "    dic.append({'min_child_weight':i,\n",
    "                'train accuracy':accuracy(Y_train_xgb, Yhat_train), \n",
    "                'validation accuracy':accuracy(Y_val_xgb, Yhat_val)})"
   ]
  },
  {
   "cell_type": "code",
   "execution_count": 37,
   "metadata": {},
   "outputs": [
    {
     "data": {
      "text/html": [
       "<div>\n",
       "<style>\n",
       "    .dataframe thead tr:only-child th {\n",
       "        text-align: right;\n",
       "    }\n",
       "\n",
       "    .dataframe thead th {\n",
       "        text-align: left;\n",
       "    }\n",
       "\n",
       "    .dataframe tbody tr th {\n",
       "        vertical-align: top;\n",
       "    }\n",
       "</style>\n",
       "<table border=\"1\" class=\"dataframe\">\n",
       "  <thead>\n",
       "    <tr style=\"text-align: right;\">\n",
       "      <th></th>\n",
       "      <th>min_child_weight</th>\n",
       "      <th>train accuracy</th>\n",
       "      <th>validation accuracy</th>\n",
       "    </tr>\n",
       "  </thead>\n",
       "  <tbody>\n",
       "    <tr>\n",
       "      <th>4</th>\n",
       "      <td>9</td>\n",
       "      <td>0.958846</td>\n",
       "      <td>0.944</td>\n",
       "    </tr>\n",
       "    <tr>\n",
       "      <th>0</th>\n",
       "      <td>1</td>\n",
       "      <td>0.962692</td>\n",
       "      <td>0.943</td>\n",
       "    </tr>\n",
       "    <tr>\n",
       "      <th>1</th>\n",
       "      <td>3</td>\n",
       "      <td>0.963077</td>\n",
       "      <td>0.943</td>\n",
       "    </tr>\n",
       "    <tr>\n",
       "      <th>3</th>\n",
       "      <td>7</td>\n",
       "      <td>0.961538</td>\n",
       "      <td>0.943</td>\n",
       "    </tr>\n",
       "    <tr>\n",
       "      <th>2</th>\n",
       "      <td>5</td>\n",
       "      <td>0.963077</td>\n",
       "      <td>0.942</td>\n",
       "    </tr>\n",
       "  </tbody>\n",
       "</table>\n",
       "</div>"
      ],
      "text/plain": [
       "   min_child_weight  train accuracy  validation accuracy\n",
       "4                 9        0.958846                0.944\n",
       "0                 1        0.962692                0.943\n",
       "1                 3        0.963077                0.943\n",
       "3                 7        0.961538                0.943\n",
       "2                 5        0.963077                0.942"
      ]
     },
     "execution_count": 37,
     "metadata": {},
     "output_type": "execute_result"
    }
   ],
   "source": [
    "result = pd.DataFrame(dic, columns = ['min_child_weight', 'train accuracy', 'validation accuracy'])\n",
    "result.sort_values('validation accuracy',  ascending=False)"
   ]
  },
  {
   "cell_type": "code",
   "execution_count": 38,
   "metadata": {},
   "outputs": [
    {
     "data": {
      "image/png": "[encoded data removed]",
      "text/plain": [
       "<matplotlib.figure.Figure at 0x131193438>"
      ]
     },
     "metadata": {},
     "output_type": "display_data"
    }
   ],
   "source": [
    "plt.figure(figsize=(8,6))\n",
    "plt.plot(min_child_weight, result['validation accuracy'], label='validation accuracy')\n",
    "plt.plot(min_child_weight, result['train accuracy'], label='train accuracy')\n",
    "plt.xlabel('min_child_weight', fontsize=12)\n",
    "plt.ylabel('accuracy', fontsize=12)\n",
    "plt.legend(loc='best')\n",
    "plt.show()"
   ]
  },
  {
   "cell_type": "markdown",
   "metadata": {},
   "source": [
    "When tunning the `min_child_weight`, the accuracy does not improve. Therefore, we will keep `min_child_weight` as 1."
   ]
  },
  {
   "cell_type": "markdown",
   "metadata": {},
   "source": [
    "#### train the final model"
   ]
  },
  {
   "cell_type": "code",
   "execution_count": 39,
   "metadata": {
    "collapsed": true
   },
   "outputs": [],
   "source": [
    "Y_xgb = change_binary(Y)\n",
    "Y_test_xgb = change_binary(Y_test)"
   ]
  },
  {
   "cell_type": "code",
   "execution_count": 40,
   "metadata": {
    "collapsed": true
   },
   "outputs": [],
   "source": [
    "d = xgb.DMatrix(X, label=Y_xgb)\n",
    "dtest = xgb.DMatrix(X_test, label=Y_test_xgb)"
   ]
  },
  {
   "cell_type": "code",
   "execution_count": 41,
   "metadata": {},
   "outputs": [
    {
     "name": "stdout",
     "output_type": "stream",
     "text": [
      "Train Accuracy 0.9564\n",
      "Test Accuracy 0.9620\n"
     ]
    }
   ],
   "source": [
    "param = {'max_depth':1, 'min_child_weight':1, 'learning_rate':0.05, 'objective':'multi:softmax', 'num_class':2}\n",
    "bst = xgb.train(param, d, 1400)\n",
    "Yhat = bst.predict(d)\n",
    "Yhat_test = bst.predict(dtest)\n",
    "acc_test = accuracy(Y_test_xgb, Yhat_test)\n",
    "acc_train = accuracy(Y_xgb, Yhat)\n",
    "print(\"Train Accuracy %.4f\" % acc_train)\n",
    "print(\"Test Accuracy %.4f\" % acc_test)"
   ]
  },
  {
   "cell_type": "markdown",
   "metadata": {},
   "source": [
    "For AdaBoost, the train accuracy and test accuracy is 0.9644 and 0.9570, respectively. For XGBoost, the train accuracy and test accuracy is 0.9564 and 0.9620, respectively. So the XGBoost performs better on the test set, which means less overfitting."
   ]
  }
 ],
 "metadata": {
  "kernelspec": {
   "display_name": "Python 3",
   "language": "python",
   "name": "python3"
  },
  "language_info": {
   "codemirror_mode": {
    "name": "ipython",
    "version": 3
   },
   "file_extension": ".py",
   "mimetype": "text/x-python",
   "name": "python",
   "nbconvert_exporter": "python",
   "pygments_lexer": "ipython3",
   "version": "3.6.2"
  },
  "toc": {
   "nav_menu": {},
   "number_sections": true,
   "sideBar": true,
   "skip_h1_title": false,
   "toc_cell": false,
   "toc_position": {},
   "toc_section_display": "block",
   "toc_window_display": false
  }
 },
 "nbformat": 4,
 "nbformat_minor": 2
}
